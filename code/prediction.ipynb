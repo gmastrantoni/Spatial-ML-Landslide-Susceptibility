{
 "cells": [
  {
   "cell_type": "code",
   "execution_count": 1,
   "metadata": {},
   "outputs": [],
   "source": [
    "import geopandas as gpd\n",
    "from pyspatialml import Raster\n",
    "from copy import deepcopy\n",
    "import os\n",
    "import tempfile\n",
    "import rasterio.plot\n",
    "import numpy as np\n",
    "from joblib import load\n",
    "import glob\n",
    "import matplotlib as mpl\n",
    "import matplotlib.pyplot as plt\n",
    "from matplotlib import cm"
   ]
  },
  {
   "cell_type": "code",
   "execution_count": null,
   "metadata": {},
   "outputs": [],
   "source": [
    "#%% load model\n",
    "\n",
    "model_path = 'codici/model/gb_29042024.joblib'\n",
    "model = load(model_path)\n",
    "\n",
    "#%% load predictors and stack\n",
    "# Define the folder containing the raster files\n",
    "folder_path = 'dati/predictors'\n",
    "# Define the pattern to match all files with the .tif extension\n",
    "file_pattern = \"*.tif\"\n",
    "# Combine the folder path and file pattern to search for files\n",
    "search_pattern = os.path.join(folder_path, file_pattern)\n",
    "\n",
    "# Use glob.glob to find all files matching the pattern\n",
    "predictors = glob.glob(search_pattern)\n",
    "\n",
    "stack = Raster(predictors)"
   ]
  },
  {
   "cell_type": "code",
   "execution_count": null,
   "metadata": {},
   "outputs": [],
   "source": [
    "#%% Prediction\n",
    "result = stack.predict(estimator=model, dtype='int16', nodata=-999)\n",
    "result_probs = stack.predict_proba(estimator=model)"
   ]
  },
  {
   "cell_type": "code",
   "execution_count": null,
   "metadata": {},
   "outputs": [],
   "source": [
    "#%% plot classification result\n",
    "result.iloc[0].cmap = \"terrain\"\n",
    "result.iloc[0].categorical = True\n",
    "result.plot()\n",
    "plt.show()\n",
    "\n",
    "#%% Plot Predicted Probabilities\n",
    "result_probs.prob_1.cmap = 'rainbow'\n",
    "\n",
    "mpl.style.use('fast')\n",
    "\n",
    "result_probs.iloc[1].plot(out_shape=(200, 200), figsize=(10, 8))\n",
    "plt.show()"
   ]
  },
  {
   "cell_type": "code",
   "execution_count": null,
   "metadata": {},
   "outputs": [],
   "source": [
    "#%% save predictions\n",
    "result.write(\"output/ls_pred.tif\")\n",
    "result_probs.write(\"output/ls_pred_proba.tif\")"
   ]
  }
 ],
 "metadata": {
  "kernelspec": {
   "display_name": "geospatial",
   "language": "python",
   "name": "python3"
  },
  "language_info": {
   "codemirror_mode": {
    "name": "ipython",
    "version": 3
   },
   "file_extension": ".py",
   "mimetype": "text/x-python",
   "name": "python",
   "nbconvert_exporter": "python",
   "pygments_lexer": "ipython3",
   "version": "3.11.8"
  }
 },
 "nbformat": 4,
 "nbformat_minor": 2
}
